{
 "cells": [
  {
   "attachments": {},
   "cell_type": "markdown",
   "metadata": {},
   "source": [
    "#### 1. Add the Github Account Name to the Repo as the collaborator\n",
    "\n",
    "- write down the Github account name in the Teams channel\n",
    "\n",
    "- this repo should then appear in your github page\n",
    "\n",
    "#### 2. Clone the Repo to the local machine\n",
    "\n",
    "- three channels\n",
    "\n",
    "    - Command Line through SSH (or HTTPS)\n",
    "    - VsCode\n",
    "    - Github Desktop\n",
    "\n",
    "#### 3. Local changes and Version Control***\n",
    "\n",
    "- commit\n",
    "- revert commit(***)\n",
    "- switch/reset to commit(***)\n",
    "\n",
    "\n",
    "#### 4. Create new branch\n",
    "\n",
    "\n",
    "#### 5. Reconcile diverged conflict"
   ]
  },
  {
   "cell_type": "markdown",
   "metadata": {},
   "source": []
  }
 ],
 "metadata": {
  "language_info": {
   "name": "python"
  },
  "orig_nbformat": 4
 },
 "nbformat": 4,
 "nbformat_minor": 2
}
